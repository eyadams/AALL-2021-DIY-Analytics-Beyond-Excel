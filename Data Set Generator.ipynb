{
 "cells": [
  {
   "cell_type": "markdown",
   "metadata": {},
   "source": [
    "# DIY Analytics: Beyond Excel\n",
    "\n",
    "This Jupyter Notebook was used to generate the data set\n",
    "for the pre-conference exercise that is a companion\n",
    "to the AALL 2021 session \"DIY Analytics: Beyond Excel\"."
   ]
  },
  {
   "cell_type": "code",
   "execution_count": 50,
   "metadata": {},
   "outputs": [],
   "source": [
    "import csv\n",
    "from random import choices, randrange, randint, shuffle\n",
    "from datetime import date, timedelta"
   ]
  },
  {
   "cell_type": "code",
   "execution_count": 51,
   "metadata": {},
   "outputs": [],
   "source": [
    "# Three offices. The code is written so that if \n",
    "# you wanted to generate a new data set with more offices,\n",
    "# simply add them to this list.\n",
    "\n",
    "offices = ['Chicago', 'Tallahassee', 'Honolulu']\n",
    "\n",
    "# The weights are used when we randomly assign attorneys\n",
    "# to the offices. The net effect of this is that the offices\n",
    "# will be different sizes.\n",
    "\n",
    "office_weights = [randint(0, 100) for i in range(0,len(offices))]"
   ]
  },
  {
   "cell_type": "code",
   "execution_count": 52,
   "metadata": {},
   "outputs": [],
   "source": [
    "# 20 Practice groups. This list was produced by looking at the\n",
    "# practice groups of several AmLaw 100 law firms. Like offices,\n",
    "# this list can be made larger or smaller without affecting\n",
    "# the rest of the code.\n",
    "\n",
    "practice_groups = ['Antitrust', 'Business Litigation', \n",
    "                  'Restructuring', 'Employee Benefits', 'Energy', \n",
    "                  'Entertainment', 'Financial Transactions', 'International Arbitration',\n",
    "                  'Government Regulation', 'Health Care', 'Insurance',\n",
    "                  'Intellectual Property', 'White Collar Crime', 'Appeals',\n",
    "                  'Labor', 'Mergers & Acquisitions', 'Private Equity',\n",
    "                  'Real Estate', 'Securities Litigation', 'Tax']\n",
    "\n",
    "# Like offices, practice groups are assigned\n",
    "# randomly, but with weights so that some\n",
    "# will be larger than others.\n",
    "\n",
    "practice_group_weights = [randint(0, 100) for i in range(0, len(practice_groups))]"
   ]
  },
  {
   "cell_type": "code",
   "execution_count": 53,
   "metadata": {},
   "outputs": [
    {
     "name": "stdout",
     "output_type": "stream",
     "text": [
      "starting...\n",
      "done!\n",
      "sample of attorneys:\n",
      "['Ladies', 'Tallahassee', 'Entertainment', 60]\n",
      "['Sir Thomas Erpingham', 'Chicago', 'Real Estate', 79]\n",
      "['George Seacoal', 'Tallahassee', 'Restructuring', 2]\n",
      "['Lord', 'Tallahassee', 'Private Equity', 29]\n",
      "['Cobbler', 'Tallahassee', 'Health Care', 89]\n",
      "sample of researchers:\n",
      "['Hal', 'Chicago', '', 30]\n",
      "['Justice Silence', 'Tallahassee', '', 100]\n",
      "['Paulina', 'Honolulu', '', 33]\n",
      "['Romeo', 'Chicago', '', 30]\n",
      "['Lord Berkeley', 'Tallahassee', '', 18]\n"
     ]
    }
   ],
   "source": [
    "# Each attorney has a name, an office, a practice group, and a\n",
    "# weight. The weight influences how often the ask questions. In my\n",
    "# experience, some attorneys use the library's services more than\n",
    "# others, and the weight will simulate that. \n",
    "\n",
    "# Researchers have an office and a weight, which affects how\n",
    "# many requests they handle. \n",
    "\n",
    "# The names of the attorneys and researchers are selected randomly\n",
    "# from a complete list of characters from Shakespeare's plays.\n",
    "\n",
    "dramatis_personae = [] \n",
    "attorneys = []\n",
    "researchers = []\n",
    "\n",
    "print(\"starting...\")\n",
    "\n",
    "with open('characters.csv', encoding=\"ISO-8859-1\") as infile:\n",
    "    reader = csv.reader(infile)\n",
    "    for row in reader:\n",
    "        dramatis_personae.append(row[0])\n",
    "\n",
    "i = 0\n",
    "for r in choices(dramatis_personae, k=15):\n",
    "    researchers.append([r, \n",
    "                       offices[i%3],\n",
    "                       '',\n",
    "                       randint(0, 100)])\n",
    "    i += 1\n",
    "\n",
    "for a in (set(dramatis_personae) - set([r[0] for r in researchers])):\n",
    "    attorneys.append([a, \n",
    "                    choices(offices, office_weights)[0],\n",
    "                    choices(practice_groups, practice_group_weights)[0],\n",
    "                    randint(0, 100)])\n",
    "        \n",
    "print(\"done!\")    \n",
    "print(\"sample of attorneys:\")\n",
    "for i in range(0, 5):\n",
    "    print(attorneys[i])\n",
    "print(\"sample of researchers:\")\n",
    "for i in range(0, 5):\n",
    "    print(researchers[i])\n"
   ]
  },
  {
   "cell_type": "code",
   "execution_count": 54,
   "metadata": {},
   "outputs": [],
   "source": [
    "# We randomly weight the days of the week, but hard code\n",
    "# extra low values for the weekends\n",
    "\n",
    "day_of_the_week = [randint(0, 10) for i in range(0, 7)]\n",
    "day_of_the_week[5] = 3 # Saturday\n",
    "day_of_the_week[6] = 3 # Sunday"
   ]
  },
  {
   "cell_type": "code",
   "execution_count": 55,
   "metadata": {},
   "outputs": [],
   "source": [
    "# Holidays. The year of data we are analyzing is 2017,\n",
    "# which started on a Sunday. This list includes the major US holidays,\n",
    "# including New Year's Day, Presidents Day, etc. \n",
    "\n",
    "holidays = [0, 1, 15, 50, 148, 169, 184, 246, 314, 326, 327, 358]\n",
    "holiday_weight = 1"
   ]
  },
  {
   "cell_type": "code",
   "execution_count": 56,
   "metadata": {},
   "outputs": [],
   "source": [
    "# We pre-calculate the number of requests, per day, for\n",
    "# one of the offices. The formula used will produce an upward trend \n",
    "# with a dramatic uptick near the beginning of the year.\n",
    "\n",
    "upward = []\n",
    "\n",
    "for i in range(0, 366):\n",
    "    n = (1, -1)[(i-40)<0]\n",
    "    x = (4.0 * pow(abs(i-40.0), 1.0/3)) * n + 30\n",
    "    raw_number = randint(randint(0, int(.75 * x)), int(x))\n",
    "    if i in holidays:\n",
    "        raw_number = int(raw_number * holiday_weight)\n",
    "    else:\n",
    "        raw_number = int(raw_number * day_of_the_week[i % 7])\n",
    "    upward.append(raw_number)\n"
   ]
  },
  {
   "cell_type": "code",
   "execution_count": 60,
   "metadata": {},
   "outputs": [],
   "source": [
    "# Like above,  but this office will have a downward trend\n",
    "# that almost moves to nothing\n",
    "\n",
    "downward = []\n",
    "\n",
    "from math import sqrt\n",
    "\n",
    "for i in range(0, 366):\n",
    "    x = 35 - sqrt(10 + (3*i))\n",
    "    raw_number = randint(randint(0, int(.75 * x)), int(x))\n",
    "    if i in holidays:\n",
    "        raw_number = int(raw_number * holiday_weight)\n",
    "    else:\n",
    "        raw_number = int(raw_number * day_of_the_week[i % 7])\n",
    "    downward.append(raw_number)"
   ]
  },
  {
   "cell_type": "code",
   "execution_count": 65,
   "metadata": {},
   "outputs": [],
   "source": [
    "# lastly, the final office will have a basically flat trend\n",
    "\n",
    "flat = []\n",
    "\n",
    "for i in range(0, 366):\n",
    "    raw_number = randint(randint(26, 35), 35) \n",
    "    if i in holidays:\n",
    "        raw_number = int(raw_number * holiday_weight)\n",
    "    else:\n",
    "        raw_number = int(raw_number * day_of_the_week[i % 7])\n",
    "    flat.append(raw_number) "
   ]
  },
  {
   "cell_type": "code",
   "execution_count": 66,
   "metadata": {},
   "outputs": [],
   "source": [
    "# This assigns the number of requests per day\n",
    "# to each office. \n",
    "\n",
    "request_numbers = [upward, downward, flat]\n",
    "shuffle(request_numbers)\n",
    "random_offices = offices.copy()\n",
    "shuffle(random_offices)\n",
    "\n",
    "office_daily_request_numbers = {}\n",
    "\n",
    "for i in range(0, len(random_offices)):\n",
    "    office_daily_request_numbers[random_offices[i]] = request_numbers[i]"
   ]
  },
  {
   "cell_type": "code",
   "execution_count": 67,
   "metadata": {},
   "outputs": [],
   "source": [
    "# Like offices and practice groups, this list of categories\n",
    "# can be expanded or shrunk and everything else should work fine.\n",
    "\n",
    "request_categories = ['Legal Research', 'Company Research', 'Other Research', \n",
    "                      'Books and Documents', 'Tech Support']\n",
    "\n",
    "request_category_weights = [randint(0, 100) for i in range(0, len(request_categories))]\n"
   ]
  },
  {
   "cell_type": "code",
   "execution_count": 68,
   "metadata": {},
   "outputs": [],
   "source": [
    "# This gives me 5 minutes increments for time spent\n",
    "\n",
    "time_spent = [i for i in range(5, 121, 5)]\n",
    "time_spent_weights = [randint(0, 100) for i in range(0, len(time_spent))]"
   ]
  },
  {
   "cell_type": "code",
   "execution_count": 69,
   "metadata": {},
   "outputs": [],
   "source": [
    "# And resources. Unlike most of the other elements, this is intentionally\n",
    "# weighted so that 'None' shows up more often than the other resources.\n",
    "\n",
    "resources = ['Other', 'Lexis', 'Westlaw', 'Bloomberg Law', 'Print']\n",
    "resource_weights = [50] + [randint(0, 25) for i in range(0, len(resources) - 1)]"
   ]
  },
  {
   "cell_type": "code",
   "execution_count": 70,
   "metadata": {},
   "outputs": [],
   "source": [
    "# Now we generate the requests.csv file. First, a little prep work\n",
    "# to make what comes later a little easier.\n",
    "\n",
    "request_serial_number = randint(5, 10000)\n",
    "\n",
    "january_1 = date(2017, 1, 1)\n",
    "\n",
    "attorney_names = {}\n",
    "attorney_weights = {}\n",
    "\n",
    "for o in offices:\n",
    "    attorney_names[o] = [a for a in attorneys if a[1] == o]\n",
    "    attorney_weights[o] = [a[3] for a in attorneys if a[1] == o]\n",
    "\n",
    "researcher_weights = [a[3] for a in researchers]\n",
    "\n",
    "# the file should be of the form:\n",
    "# serial number, date of request, attorney who made the request, attorney office,\n",
    "# attorney practice group, \n",
    "# researcher, researcher's office, request category, time spent, resource used\n",
    "\n",
    "with open(\"requests.csv\", 'w', newline='') as outfile:\n",
    "    writer = csv.writer(outfile)\n",
    "    writer.writerow(['Request Number', 'Date', 'Attorney', 'Attorney Office',\n",
    "                     'Attorney Practice Group', \n",
    "                     'Researcher', 'Researcher Office', 'Request Category',\n",
    "                     'Time Spent', 'Resource Used'])\n",
    "    \n",
    "    # Sample attorney\n",
    "    # ['Hume', 'Tallahassee', 'Intellectual Property', 37]\n",
    "\n",
    "    for day in range(0, 366):\n",
    "        for office in offices:\n",
    "            for request in range(0, office_daily_request_numbers[office][day]):\n",
    "                request_serial_number += 1\n",
    "                attorney = choices(attorney_names[office], attorney_weights[office])[0]\n",
    "                researcher = choices(researchers, researcher_weights)[0]\n",
    "                request_date = january_1 + timedelta(day)\n",
    "                \n",
    "                writer.writerow([request_serial_number,\n",
    "                                request_date,\n",
    "                                attorney[0],\n",
    "                                attorney[1],\n",
    "                                attorney[2],\n",
    "                                researcher[0],\n",
    "                                researcher[1],\n",
    "                                choices(request_categories, request_category_weights)[0],\n",
    "                                choices(time_spent, time_spent_weights)[0],\n",
    "                                choices(resources, resource_weights)[0]])\n"
   ]
  }
 ],
 "metadata": {
  "kernelspec": {
   "display_name": "Python 3",
   "language": "python",
   "name": "python3"
  },
  "language_info": {
   "codemirror_mode": {
    "name": "ipython",
    "version": 3
   },
   "file_extension": ".py",
   "mimetype": "text/x-python",
   "name": "python",
   "nbconvert_exporter": "python",
   "pygments_lexer": "ipython3",
   "version": "3.6.6+"
  }
 },
 "nbformat": 4,
 "nbformat_minor": 4
}
